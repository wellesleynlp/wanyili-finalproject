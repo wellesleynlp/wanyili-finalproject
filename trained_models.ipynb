{
 "cells": [
  {
   "cell_type": "code",
   "execution_count": 1,
   "metadata": {
    "collapsed": true
   },
   "outputs": [],
   "source": [
    "import word2vec"
   ]
  },
  {
   "cell_type": "code",
   "execution_count": 2,
   "metadata": {
    "collapsed": true
   },
   "outputs": [],
   "source": [
    "\n",
    "model = word2vec.load('en_tokenized.bin')"
   ]
  },
  {
   "cell_type": "code",
   "execution_count": 15,
   "metadata": {
    "collapsed": false
   },
   "outputs": [
    {
     "name": "stdout",
     "output_type": "stream",
     "text": [
      "1832169\n",
      "100\n",
      "0.143332824111 0.158255130053 -0.137158453465 -0.117384068668 0.0489359796047 0.108182623982 0.0336912982166 0.00756770186126 -0.129038870335 0.0794417411089 -0.155998468399 0.0447450615466 -0.0269049555063 -0.0342759527266 -0.118733689189 -0.0673989877105 0.0923642069101 0.108335614204 0.106319382787 0.0572030842304 0.0553179867566 -0.136169463396 -0.146665886045 0.177958473563 0.136120274663 0.11065236479 -0.02162668854 0.143797263503 -0.0177253596485 0.0263093747199 -0.00534383533522 -0.106827534735 0.0469907820225 -0.0478923507035 -0.136983588338 0.170243233442 0.156818076968 -0.0392154455185 -0.00809771381319 0.0182335153222 -0.130262821913 -0.143491268158 0.163101732731 0.00225665047765 -0.0924734920263 -0.108936652541 -0.110166065395 0.0607656389475 0.0072125387378 0.0476628616452 -0.150884136558 -0.136355236173 -0.00465536629781 0.0409530103207 0.0913041904569 -0.113515526056 0.14608669281 0.0331940688193 0.0400951579213 -0.0217851456255 0.106942281127 -0.0819224119186 -0.0751087591052 0.0772889107466 -0.0269705243409 0.0369096212089 0.0646177902818 -0.146409079432 -0.0710107237101 0.104335926473 0.151539802551 0.140802964568 -0.10910603404 -0.0754748508334 -0.0325547792017 0.0716718733311 -0.135661303997 0.107352085412 0.099828094244 -0.0572577230632 -0.0555584058166 -0.0801520720124 0.151430532336 0.140081703663 -0.0422479920089 0.15093331039 0.172609165311 0.0650057345629 0.178433835506 -0.1114064008 -0.0548480786383 -0.0754639208317 -0.104100979865 0.10079523176 0.0565528608859 0.0152173638344 -0.0785510987043 0.0545694157481 0.109554089606 0.00693387212232\n",
      "album\n"
     ]
    }
   ],
   "source": [
    "N, D = model.vectors.shape\n",
    "print N\n",
    "print D\n",
    "print ' '.join(str(x) for x in model.vectors[0])\n",
    "print model.vocab[128]"
   ]
  },
  {
   "cell_type": "code",
   "execution_count": 4,
   "metadata": {
    "collapsed": true
   },
   "outputs": [],
   "source": [
    "indexes, metrics = model.cosine('wine')"
   ]
  },
  {
   "cell_type": "code",
   "execution_count": 5,
   "metadata": {
    "collapsed": false
   },
   "outputs": [
    {
     "data": {
      "text/plain": [
       "array([u'wines', u'amarone', u'liqueurs', u'liqueur', u'grapes', u'grape',\n",
       "       u'tokaji', u'zinfandel', u'ros\\xe9', u'cordials'], \n",
       "      dtype='<U78')"
      ]
     },
     "execution_count": 5,
     "metadata": {},
     "output_type": "execute_result"
    }
   ],
   "source": [
    "\n",
    "model.vocab[indexes]"
   ]
  },
  {
   "cell_type": "code",
   "execution_count": 6,
   "metadata": {
    "collapsed": true
   },
   "outputs": [],
   "source": [
    "import matplotlib.pyplot as plt\n",
    "#%matplotlib.inline"
   ]
  },
  {
   "cell_type": "code",
   "execution_count": 7,
   "metadata": {
    "collapsed": false
   },
   "outputs": [
    {
     "data": {
      "text/plain": [
       "<matplotlib.collections.PathCollection at 0x19621c410>"
      ]
     },
     "execution_count": 7,
     "metadata": {},
     "output_type": "execute_result"
    }
   ],
   "source": [
    "plt.scatter(model.vectors[:100,0],model.vectors[:100,1])\n"
   ]
  },
  {
   "cell_type": "code",
   "execution_count": 8,
   "metadata": {
    "collapsed": false
   },
   "outputs": [],
   "source": [
    "labels = model.vocab[:100]\n",
    "for label, x, y in zip(labels, model.vectors[:100,0], model.vectors[:100,1]):\n",
    "    plt.annotate(\n",
    "        label, \n",
    "        xy = (x, y),xytext=(10, 20), textcoords='offset points')\n",
    "plt.show()\n",
    "plt.savefig(\"100en.png\")"
   ]
  },
  {
   "cell_type": "code",
   "execution_count": 16,
   "metadata": {
    "collapsed": true
   },
   "outputs": [],
   "source": [
    "model_ch = word2vec.load('ch_tokenized.bin')"
   ]
  },
  {
   "cell_type": "code",
   "execution_count": 17,
   "metadata": {
    "collapsed": false
   },
   "outputs": [
    {
     "data": {
      "text/plain": [
       "(14984, 100)"
      ]
     },
     "execution_count": 17,
     "metadata": {},
     "output_type": "execute_result"
    }
   ],
   "source": [
    "model_ch.vectors.shape"
   ]
  },
  {
   "cell_type": "code",
   "execution_count": 11,
   "metadata": {
    "collapsed": false
   },
   "outputs": [
    {
     "data": {
      "text/plain": [
       "array([u'</s>', u'\\uff0c', u'\\u7684', ..., u'\\u014e', u'\\u1ecc', u'\\u7347'], \n",
       "      dtype='<U78')"
      ]
     },
     "execution_count": 11,
     "metadata": {},
     "output_type": "execute_result"
    }
   ],
   "source": [
    "model_ch.vocab"
   ]
  },
  {
   "cell_type": "code",
   "execution_count": 12,
   "metadata": {
    "collapsed": false
   },
   "outputs": [
    {
     "name": "stdout",
     "output_type": "stream",
     "text": [
      "午\n",
      "早\n",
      "週\n",
      "逢\n",
      "末\n",
      "晨\n",
      "映\n",
      "夜\n",
      "初\n",
      "☸\n",
      "[u'afternoon' u'morning' u'night' u'sunday' u'lunchtime' u'mid-day'\n",
      " u'forenoon' u'saturday' u'day' u'thursday']\n"
     ]
    }
   ],
   "source": [
    "indexes, metrics = model_ch.cosine('晚'.decode(\"utf-8\"))\n",
    "for i in model_ch.vocab[indexes]:\n",
    "    print i.encode(\"utf-8\")\n",
    "    \n",
    "indexes, metrics = model.cosine('evening')\n",
    "print model.vocab[indexes]"
   ]
  },
  {
   "cell_type": "code",
   "execution_count": 13,
   "metadata": {
    "collapsed": false
   },
   "outputs": [
    {
     "data": {
      "text/plain": [
       "<matplotlib.collections.PathCollection at 0x197686690>"
      ]
     },
     "execution_count": 13,
     "metadata": {},
     "output_type": "execute_result"
    }
   ],
   "source": [
    "labels_ch = []\n",
    "for i in range(100):\n",
    "    labels_ch.append(model_ch.vocab[i].encode(\"utf-8\"))\n",
    "plt.scatter(model_ch.vectors[:100,0],model_ch.vectors[:100,1])"
   ]
  },
  {
   "cell_type": "code",
   "execution_count": 14,
   "metadata": {
    "collapsed": false
   },
   "outputs": [],
   "source": [
    "from matplotlib import font_manager\n",
    "zhfont1 = font_manager.FontProperties(fname='/Library/Fonts/Kaiti.ttc')"
   ]
  },
  {
   "cell_type": "code",
   "execution_count": 15,
   "metadata": {
    "collapsed": false
   },
   "outputs": [],
   "source": [
    "for label, x, y in zip(model_ch.vocab[:100], model.vectors[:100,0], model.vectors[:100,1]):\n",
    "    plt.annotate(\n",
    "        label, \n",
    "        xy = (x, y),xytext=(10, 20), textcoords='offset points',fontproperties=zhfont1)\n",
    "plt.show()"
   ]
  },
  {
   "cell_type": "code",
   "execution_count": 18,
   "metadata": {
    "collapsed": false
   },
   "outputs": [
    {
     "name": "stdout",
     "output_type": "stream",
     "text": [
      "藥\n",
      "剂\n",
      "质\n",
      "葯\n",
      "烧\n",
      "碱\n",
      "烟\n",
      "毒\n",
      "酱\n",
      "腌\n",
      "[u'dentistry' u'dermatology' u'osteopathy' u'pharmacology' u'naturopathy'\n",
      " u'cardiology' u'ophthalmology' u'neurology' u'pediatrics' u'psychiatry']\n"
     ]
    }
   ],
   "source": [
    "indexes, metrics = model_ch.cosine('药'.decode(\"utf-8\"))\n",
    "for i in model_ch.vocab[indexes]:\n",
    "    print i.encode(\"utf-8\")\n",
    "    \n",
    "indexes, metrics = model.cosine('medicine')\n",
    "print model.vocab[indexes]"
   ]
  },
  {
   "cell_type": "code",
   "execution_count": 19,
   "metadata": {
    "collapsed": false
   },
   "outputs": [
    {
     "name": "stdout",
     "output_type": "stream",
     "text": [
      "飯\n",
      "饭\n",
      "吆\n",
      "舗\n",
      "醺\n",
      "酝\n",
      "餐\n",
      "粥\n",
      "醞\n",
      "酊\n",
      "[u'cannabis' u'caffeine' u'amphetamines' u'nicotine' u'drugs' u'oxycodone'\n",
      " u'opiates' u'marijuana' u'smoking' u'cocaine']\n"
     ]
    }
   ],
   "source": [
    "indexes, metrics = model_ch.cosine('酒'.decode(\"utf-8\"))\n",
    "for i in model_ch.vocab[indexes]:\n",
    "    print i.encode(\"utf-8\")\n",
    "    \n",
    "indexes, metrics = model.cosine('alcohol')\n",
    "print model.vocab[indexes]"
   ]
  },
  {
   "cell_type": "code",
   "execution_count": 20,
   "metadata": {
    "collapsed": false
   },
   "outputs": [
    {
     "name": "stdout",
     "output_type": "stream",
     "text": [
      "女\n",
      "孩\n",
      "妻\n",
      "媳\n",
      "姪\n",
      "侄\n",
      "童\n",
      "姘\n",
      "兒\n",
      "刽\n",
      "[u'female' u'heterosexual' u'sexes' u'ovulating' u'sub-adult' u'polygynous'\n",
      " u'male\\u2019s' u'oestrus' u'hermaphrodite' u'cisgender']\n"
     ]
    }
   ],
   "source": [
    "indexes, metrics = model_ch.cosine('男'.decode(\"utf-8\"))\n",
    "for i in model_ch.vocab[indexes]:\n",
    "    print i.encode(\"utf-8\")\n",
    "    \n",
    "indexes, metrics = model.cosine('male')\n",
    "print model.vocab[indexes]"
   ]
  },
  {
   "cell_type": "code",
   "execution_count": 21,
   "metadata": {
    "collapsed": false
   },
   "outputs": [
    {
     "name": "stdout",
     "output_type": "stream",
     "text": [
      "靴\n",
      "帽\n",
      "裙\n",
      "裤\n",
      "褲\n",
      "盒\n",
      "脖\n",
      "筷\n",
      "罐\n",
      "墊\n",
      "[u'shoes' u'cigar' u'footwear' u'hosiery' u'cutlery' u'boots' u'sheepskin'\n",
      " u'laces' u'stapler' u'leather']\n"
     ]
    }
   ],
   "source": [
    "indexes, metrics = model_ch.cosine('鞋'.decode(\"utf-8\"))\n",
    "for i in model_ch.vocab[indexes]:\n",
    "    print i.encode(\"utf-8\")\n",
    "    \n",
    "indexes, metrics = model.cosine('shoe')\n",
    "print model.vocab[indexes]"
   ]
  },
  {
   "cell_type": "code",
   "execution_count": 22,
   "metadata": {
    "collapsed": false
   },
   "outputs": [
    {
     "name": "stdout",
     "output_type": "stream",
     "text": [
      "腦\n",
      "话\n",
      "影\n",
      "缆\n",
      "闪\n",
      "视\n",
      "脳\n",
      "镀\n",
      "镦\n",
      "颅\n",
      "[u'tumor' u'hippocampus' u'cerebellum' u'amygdala' u'tissue' u'tumour'\n",
      " u'brainstem' u'pancreas' u'retina' u'neuroplasticity']\n"
     ]
    }
   ],
   "source": [
    "indexes, metrics = model_ch.cosine('脑'.decode(\"utf-8\"))\n",
    "for i in model_ch.vocab[indexes]:\n",
    "    print i.encode(\"utf-8\")\n",
    "    \n",
    "indexes, metrics = model.cosine('brain')\n",
    "print model.vocab[indexes]"
   ]
  },
  {
   "cell_type": "code",
   "execution_count": 24,
   "metadata": {
    "collapsed": false
   },
   "outputs": [
    {
     "name": "stdout",
     "output_type": "stream",
     "text": [
      "壢\n",
      "肮\n",
      "央\n",
      "腑\n",
      "其\n",
      "肝\n",
      "們\n",
      "脾\n",
      "想\n",
      "閬\n",
      "[u'soul' u'throat' u'lung' u'stomach' u'lungs' u'agony' u'womb' u'bowels'\n",
      " u'sorrow' u'breath']\n"
     ]
    }
   ],
   "source": [
    "indexes, metrics = model_ch.cosine('心'.decode(\"utf-8\"))\n",
    "for i in model_ch.vocab[indexes]:\n",
    "    print i.encode(\"utf-8\")\n",
    "    \n",
    "indexes, metrics = model.cosine('heart')\n",
    "print model.vocab[indexes]"
   ]
  },
  {
   "cell_type": "code",
   "execution_count": null,
   "metadata": {
    "collapsed": true
   },
   "outputs": [],
   "source": []
  }
 ],
 "metadata": {
  "kernelspec": {
   "display_name": "Python 2",
   "language": "python",
   "name": "python2"
  },
  "language_info": {
   "codemirror_mode": {
    "name": "ipython",
    "version": 2
   },
   "file_extension": ".py",
   "mimetype": "text/x-python",
   "name": "python",
   "nbconvert_exporter": "python",
   "pygments_lexer": "ipython2",
   "version": "2.7.10"
  }
 },
 "nbformat": 4,
 "nbformat_minor": 0
}
