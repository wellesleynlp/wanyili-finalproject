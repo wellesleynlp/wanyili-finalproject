{
 "cells": [
  {
   "cell_type": "code",
   "execution_count": 1,
   "metadata": {
    "collapsed": true
   },
   "outputs": [],
   "source": [
    "import word2vec"
   ]
  },
  {
   "cell_type": "code",
   "execution_count": 2,
   "metadata": {
    "collapsed": true
   },
   "outputs": [],
   "source": [
    "\n",
    "model = word2vec.load('en_tokenized.bin')"
   ]
  },
  {
   "cell_type": "code",
   "execution_count": 3,
   "metadata": {
    "collapsed": false
   },
   "outputs": [
    {
     "data": {
      "text/plain": [
       "(1832169, 100)"
      ]
     },
     "execution_count": 3,
     "metadata": {},
     "output_type": "execute_result"
    }
   ],
   "source": [
    "model.vectors.shape"
   ]
  },
  {
   "cell_type": "code",
   "execution_count": 4,
   "metadata": {
    "collapsed": true
   },
   "outputs": [],
   "source": [
    "indexes, metrics = model.cosine('wine')"
   ]
  },
  {
   "cell_type": "code",
   "execution_count": 5,
   "metadata": {
    "collapsed": false
   },
   "outputs": [
    {
     "data": {
      "text/plain": [
       "array([u'wines', u'amarone', u'liqueurs', u'liqueur', u'grapes', u'grape',\n",
       "       u'tokaji', u'zinfandel', u'ros\\xe9', u'cordials'], \n",
       "      dtype='<U78')"
      ]
     },
     "execution_count": 5,
     "metadata": {},
     "output_type": "execute_result"
    }
   ],
   "source": [
    "\n",
    "model.vocab[indexes]"
   ]
  },
  {
   "cell_type": "code",
   "execution_count": 6,
   "metadata": {
    "collapsed": true
   },
   "outputs": [],
   "source": [
    "import matplotlib.pyplot as plt\n",
    "#%matplotlib.inline"
   ]
  },
  {
   "cell_type": "code",
   "execution_count": 7,
   "metadata": {
    "collapsed": false
   },
   "outputs": [
    {
     "data": {
      "text/plain": [
       "<matplotlib.collections.PathCollection at 0x19621c410>"
      ]
     },
     "execution_count": 7,
     "metadata": {},
     "output_type": "execute_result"
    }
   ],
   "source": [
    "plt.scatter(model.vectors[:100,0],model.vectors[:100,1])\n"
   ]
  },
  {
   "cell_type": "code",
   "execution_count": 8,
   "metadata": {
    "collapsed": false
   },
   "outputs": [],
   "source": [
    "labels = model.vocab[:100]\n",
    "for label, x, y in zip(labels, model.vectors[:100,0], model.vectors[:100,1]):\n",
    "    plt.annotate(\n",
    "        label, \n",
    "        xy = (x, y),xytext=(10, 20), textcoords='offset points')\n",
    "plt.show()\n",
    "plt.savefig(\"100en.png\")"
   ]
  },
  {
   "cell_type": "code",
   "execution_count": 9,
   "metadata": {
    "collapsed": true
   },
   "outputs": [],
   "source": [
    "model_ch = word2vec.load('ch_tokenized.bin')"
   ]
  },
  {
   "cell_type": "code",
   "execution_count": 10,
   "metadata": {
    "collapsed": false
   },
   "outputs": [
    {
     "data": {
      "text/plain": [
       "(14984, 100)"
      ]
     },
     "execution_count": 10,
     "metadata": {},
     "output_type": "execute_result"
    }
   ],
   "source": [
    "model_ch.vectors.shape"
   ]
  },
  {
   "cell_type": "code",
   "execution_count": 11,
   "metadata": {
    "collapsed": false
   },
   "outputs": [
    {
     "data": {
      "text/plain": [
       "array([u'</s>', u'\\uff0c', u'\\u7684', ..., u'\\u014e', u'\\u1ecc', u'\\u7347'], \n",
       "      dtype='<U78')"
      ]
     },
     "execution_count": 11,
     "metadata": {},
     "output_type": "execute_result"
    }
   ],
   "source": [
    "model_ch.vocab"
   ]
  },
  {
   "cell_type": "code",
   "execution_count": 12,
   "metadata": {
    "collapsed": false
   },
   "outputs": [
    {
     "name": "stdout",
     "output_type": "stream",
     "text": [
      "午\n",
      "早\n",
      "週\n",
      "逢\n",
      "末\n",
      "晨\n",
      "映\n",
      "夜\n",
      "初\n",
      "☸\n",
      "[u'afternoon' u'morning' u'night' u'sunday' u'lunchtime' u'mid-day'\n",
      " u'forenoon' u'saturday' u'day' u'thursday']\n"
     ]
    }
   ],
   "source": [
    "indexes, metrics = model_ch.cosine('晚'.decode(\"utf-8\"))\n",
    "for i in model_ch.vocab[indexes]:\n",
    "    print i.encode(\"utf-8\")\n",
    "    \n",
    "indexes, metrics = model.cosine('evening')\n",
    "print model.vocab[indexes]"
   ]
  },
  {
   "cell_type": "code",
   "execution_count": 13,
   "metadata": {
    "collapsed": false
   },
   "outputs": [
    {
     "data": {
      "text/plain": [
       "<matplotlib.collections.PathCollection at 0x197686690>"
      ]
     },
     "execution_count": 13,
     "metadata": {},
     "output_type": "execute_result"
    }
   ],
   "source": [
    "labels_ch = []\n",
    "for i in range(100):\n",
    "    labels_ch.append(model_ch.vocab[i].encode(\"utf-8\"))\n",
    "plt.scatter(model_ch.vectors[:100,0],model_ch.vectors[:100,1])"
   ]
  },
  {
   "cell_type": "code",
   "execution_count": 14,
   "metadata": {
    "collapsed": false
   },
   "outputs": [],
   "source": [
    "from matplotlib import font_manager\n",
    "zhfont1 = font_manager.FontProperties(fname='/Library/Fonts/Kaiti.ttc')"
   ]
  },
  {
   "cell_type": "code",
   "execution_count": 15,
   "metadata": {
    "collapsed": false
   },
   "outputs": [],
   "source": [
    "for label, x, y in zip(model_ch.vocab[:100], model.vectors[:100,0], model.vectors[:100,1]):\n",
    "    plt.annotate(\n",
    "        label, \n",
    "        xy = (x, y),xytext=(10, 20), textcoords='offset points',fontproperties=zhfont1)\n",
    "plt.show()"
   ]
  },
  {
   "cell_type": "code",
   "execution_count": 16,
   "metadata": {
    "collapsed": false
   },
   "outputs": [
    {
     "name": "stdout",
     "output_type": "stream",
     "text": [
      "藥\n",
      "剂\n",
      "质\n",
      "葯\n",
      "烧\n",
      "碱\n",
      "烟\n",
      "毒\n",
      "酱\n",
      "腌\n",
      "[u'dentistry' u'dermatology' u'osteopathy' u'pharmacology' u'naturopathy'\n",
      " u'cardiology' u'ophthalmology' u'neurology' u'pediatrics' u'psychiatry']\n"
     ]
    }
   ],
   "source": [
    "indexes, metrics = model_ch.cosine('药'.decode(\"utf-8\"))\n",
    "for i in model_ch.vocab[indexes]:\n",
    "    print i.encode(\"utf-8\")\n",
    "    \n",
    "indexes, metrics = model.cosine('medicine')\n",
    "print model.vocab[indexes]"
   ]
  },
  {
   "cell_type": "code",
   "execution_count": null,
   "metadata": {
    "collapsed": true
   },
   "outputs": [],
   "source": []
  }
 ],
 "metadata": {
  "kernelspec": {
   "display_name": "Python 2",
   "language": "python",
   "name": "python2"
  },
  "language_info": {
   "codemirror_mode": {
    "name": "ipython",
    "version": 2
   },
   "file_extension": ".py",
   "mimetype": "text/x-python",
   "name": "python",
   "nbconvert_exporter": "python",
   "pygments_lexer": "ipython2",
   "version": "2.7.10"
  }
 },
 "nbformat": 4,
 "nbformat_minor": 0
}
